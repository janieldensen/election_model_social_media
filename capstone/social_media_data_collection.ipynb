{
 "cells": [
  {
   "cell_type": "markdown",
   "id": "a48f0b8a-3120-4dbb-93ca-6d833c7b5f65",
   "metadata": {},
   "source": [
    "# Data Collection From Social Media"
   ]
  },
  {
   "cell_type": "code",
   "execution_count": 4,
   "id": "9f1dd466-f5ea-4ae2-b465-d38eff34a0bc",
   "metadata": {},
   "outputs": [],
   "source": [
    "import numpy as np\n",
    "import pandas as pd\n",
    "\n",
    "import requests\n",
    "import time"
   ]
  },
  {
   "cell_type": "code",
   "execution_count": 5,
   "id": "26e0f25f-cbc7-488e-8492-588b48943881",
   "metadata": {},
   "outputs": [],
   "source": [
    "url_sub = 'https://api.pushshift.io/reddit/search/submission'\n",
    "url_com = 'https://api.pushshift.io/reddit/search/comment/'\n",
    "params = {\n",
    "    'q': '',\n",
    "    'size': 100,\n",
    "    # timestamp before election\n",
    "    'before': 1667912400\n",
    "}"
   ]
  },
  {
   "cell_type": "markdown",
   "id": "beea4a31-9df4-4c5b-8799-b6cea398b47f",
   "metadata": {},
   "source": [
    "### List of Gubernatorial and Senate candidates with significant difference in results"
   ]
  },
  {
   "cell_type": "code",
   "execution_count": 6,
   "id": "78971c5d-b22a-4b20-b0f8-9db839979cec",
   "metadata": {},
   "outputs": [],
   "source": [
    "candidate_list = ['Sununu', 'Tom Sherman', 'DeWine', 'Whaley', 'Mastriano', 'Shapiro', 'Kemp', 'Stacey Abrams', 'Ganahl', 'Jared Polis', 'Michels', 'Evers', 'Hobbs', 'Kari Lake', 'DeSantis', 'Charlie Crist', \n",
    "                  'Lombardo', 'Sisolak', 'Zeldin', 'Hochul', 'Bolduc', 'Maggie Hassan', 'Vance', 'Tim Ryan', 'Dr. Oz', 'Fetterman', 'Herschel Walker', 'Warnock', \"O'Dea\", 'Bennet', 'Ron Johnson', 'Mandela Barnes', \n",
    "                  'Blake Masters', 'Mark Kelly','Rubio', 'Demings', 'Laxalt', 'Cortez Masto', 'Pinion', 'Schumer']"
   ]
  },
  {
   "cell_type": "code",
   "execution_count": 7,
   "id": "d604de2d-1fd9-4b94-b955-ea733bf490f1",
   "metadata": {},
   "outputs": [],
   "source": [
    "df_sub = pd.DataFrame()\n",
    "df_com = pd.DataFrame()\n",
    "\n",
    "for name in candidate_list:\n",
    "    params['q'] = name\n",
    "\n",
    "    res = requests.get(url_sub, params)\n",
    "    to_add = pd.DataFrame(res.json()['data'])\n",
    "    to_add['candidate'] = name\n",
    "    df_sub = pd.concat([df_sub, to_add])\n",
    "    time.sleep(1.5)\n",
    "    \n",
    "    res = requests.get(url_com, params)\n",
    "    to_add = pd.DataFrame(res.json()['data'])\n",
    "    to_add['candidate'] = name\n",
    "    df_com= pd.concat([df_com, to_add])\n",
    "    time.sleep(1.5)\n"
   ]
  },
  {
   "cell_type": "code",
   "execution_count": 8,
   "id": "d18a93ff-6759-41a7-8241-7865d5680798",
   "metadata": {},
   "outputs": [],
   "source": [
    "# final dataframe with text data from posts and comments\n",
    "combined = df_sub[['title', 'candidate']].rename({'title': 'text'}, axis=1)"
   ]
  },
  {
   "cell_type": "code",
   "execution_count": 9,
   "id": "7276bbc3-1444-4da8-9cd5-e5f4ed8b3735",
   "metadata": {},
   "outputs": [],
   "source": [
    "combined = pd.concat([combined, df_com[['body', 'candidate']].rename({'body': 'text'}, axis=1)])"
   ]
  },
  {
   "cell_type": "code",
   "execution_count": 11,
   "id": "40bdf8d9-79c0-4d72-8323-fe231b73523c",
   "metadata": {},
   "outputs": [],
   "source": [
    "combined.to_csv('datasets/social_media_data.csv', index=False)"
   ]
  }
 ],
 "metadata": {
  "kernelspec": {
   "display_name": "Python 3 (ipykernel)",
   "language": "python",
   "name": "python3"
  },
  "language_info": {
   "codemirror_mode": {
    "name": "ipython",
    "version": 3
   },
   "file_extension": ".py",
   "mimetype": "text/x-python",
   "name": "python",
   "nbconvert_exporter": "python",
   "pygments_lexer": "ipython3",
   "version": "3.9.12"
  }
 },
 "nbformat": 4,
 "nbformat_minor": 5
}
