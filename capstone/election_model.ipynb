{
 "cells": [
  {
   "cell_type": "markdown",
   "id": "ca608bbf-8b5c-4ab9-b7cc-8231c281ffdb",
   "metadata": {},
   "source": [
    "# EDA and Election Predictions"
   ]
  },
  {
   "cell_type": "code",
   "execution_count": 1,
   "id": "70ce41cd-961a-443e-849b-224349a269f3",
   "metadata": {},
   "outputs": [],
   "source": [
    "import numpy as np\n",
    "import pandas as pd\n",
    "import matplotlib.pyplot as plt\n",
    "\n",
    "from sklearn.model_selection import train_test_split\n",
    "from sklearn.linear_model import LinearRegression\n",
    "from sklearn import metrics\n",
    "\n",
    "from nltk.sentiment.vader import SentimentIntensityAnalyzer"
   ]
  },
  {
   "cell_type": "code",
   "execution_count": 2,
   "id": "a6e55ce2-3b92-4268-ab28-d279c165b8bf",
   "metadata": {},
   "outputs": [],
   "source": [
    "governor = pd.read_csv('polls/governor_polls.csv')\n",
    "senate = pd.read_csv('polls/senate_polls.csv')"
   ]
  },
  {
   "cell_type": "markdown",
   "id": "77923cc6-2cd6-4c14-bd99-0d4ebbd3c8c1",
   "metadata": {},
   "source": [
    "## Merging into combined polls dataframes"
   ]
  },
  {
   "cell_type": "code",
   "execution_count": 3,
   "id": "084b54b4-f7bd-48d6-9f44-5ef724c799de",
   "metadata": {},
   "outputs": [],
   "source": [
    "rep_gov = governor[governor.party == 'REP'][['poll_id', 'fte_grade', 'state', 'office_type', 'created_at', 'answer', 'pct']].rename({'answer': 'rep_candidate', 'pct': 'rep_pct'}, axis=1)\n",
    "dem_gov = governor[governor.party == 'DEM'][['poll_id', 'answer', 'pct']].rename({'answer': 'dem_candidate', 'pct': 'dem_pct'}, axis=1)"
   ]
  },
  {
   "cell_type": "code",
   "execution_count": 4,
   "id": "f541a6e0-62fb-42ae-8870-9f006b4d8090",
   "metadata": {},
   "outputs": [],
   "source": [
    "rep_sen = senate[senate.party == 'REP'][['poll_id', 'fte_grade', 'state', 'office_type', 'created_at', 'answer', 'pct']].rename({'answer': 'rep_candidate', 'pct': 'rep_pct'}, axis=1)\n",
    "dem_sen = senate[senate.party == 'DEM'][['poll_id', 'answer', 'pct']].rename({'answer': 'dem_candidate', 'pct': 'dem_pct'}, axis=1)"
   ]
  },
  {
   "cell_type": "code",
   "execution_count": 5,
   "id": "d2ff2c72-4f29-4b6d-8fc2-c35d0b58df37",
   "metadata": {},
   "outputs": [],
   "source": [
    "combined_polls = pd.concat([pd.merge(rep_gov, dem_gov, on='poll_id', how='inner'), pd.merge(rep_sen, dem_sen, on='poll_id', how='inner')])"
   ]
  },
  {
   "cell_type": "code",
   "execution_count": 6,
   "id": "cc2f311f-3bcb-45a0-9802-5420a674688e",
   "metadata": {},
   "outputs": [],
   "source": [
    "# mean function that places greater weight on higher quality polls\n",
    "def weighted_mean(df):\n",
    "    rep_sum = 0\n",
    "    dem_sum = 0\n",
    "    count = 0\n",
    "\n",
    "    for i in range(df.shape[0]):\n",
    "        if pd.isna(df.iloc[i].fte_grade):\n",
    "            rep_sum += df.iloc[i].rep_pct\n",
    "            dem_sum += df.iloc[i].dem_pct\n",
    "            count += 1\n",
    "        elif 'A' in df.iloc[i].fte_grade:\n",
    "            rep_sum += df.iloc[i].rep_pct*3\n",
    "            dem_sum += df.iloc[i].dem_pct*3\n",
    "            count += 3\n",
    "        elif 'B' in df.iloc[i].fte_grade:\n",
    "            rep_sum += df.iloc[i].rep_pct*2\n",
    "            dem_sum += df.iloc[i].dem_pct*2\n",
    "            count += 2\n",
    "        else:\n",
    "            rep_sum += df.iloc[i].rep_pct\n",
    "            dem_sum += df.iloc[i].dem_pct\n",
    "            count += 1\n",
    "\n",
    "    return (rep_sum/count, dem_sum/count)"
   ]
  },
  {
   "cell_type": "markdown",
   "id": "a70f05e0-3070-4eef-90b7-f669a474ac52",
   "metadata": {},
   "source": [
    "## Sentiment Analysis"
   ]
  },
  {
   "cell_type": "code",
   "execution_count": 7,
   "id": "5122326b-a418-4bcd-a7cd-5ea67a35b0b3",
   "metadata": {},
   "outputs": [],
   "source": [
    "text_data = pd.read_csv('datasets/social_media_data.csv')"
   ]
  },
  {
   "cell_type": "code",
   "execution_count": 8,
   "id": "b0c7696c-29fe-4348-9a83-b84c9218942e",
   "metadata": {},
   "outputs": [],
   "source": [
    "sa = SentimentIntensityAnalyzer()\n",
    "text_data['sentiment'] = text_data.text.apply(lambda x: sa.polarity_scores(x)['compound'])"
   ]
  },
  {
   "cell_type": "code",
   "execution_count": 9,
   "id": "aa493976-7bce-4e8a-89f0-daba432985b7",
   "metadata": {},
   "outputs": [],
   "source": [
    "avg_sent = text_data.groupby('candidate').mean()"
   ]
  },
  {
   "cell_type": "code",
   "execution_count": 10,
   "id": "e961dfd5-9067-4932-ac82-a9d6b6dc78e9",
   "metadata": {},
   "outputs": [],
   "source": [
    "# keep last names only, (excepction for cortez masto)\n",
    "avg_sent.index = [name if name == 'Cortez Masto' else name.split()[-1] for name in avg_sent.index]"
   ]
  },
  {
   "cell_type": "code",
   "execution_count": 11,
   "id": "c5aa137d-6edd-4220-8ac2-0d3e53c81161",
   "metadata": {},
   "outputs": [],
   "source": [
    "avg_sent['party'] = ['d', 'r', 'r', 'd', 'd', 'r', 'r', 'd', 'r', 'd', 'd', 'r', 'r', 'd', 'd', 'd', 'r', 'r', 'r', 'r', \n",
    "                     'd', 'd', 'd', 'r', 'r', 'r', 'r', 'r', 'r', 'd', 'd', 'd', 'd', 'r', 'd', 'd', 'r', 'd', 'd', 'r']"
   ]
  },
  {
   "cell_type": "code",
   "execution_count": 12,
   "id": "ea6988c7-8b06-4e8a-81eb-5d2fa6d0efe0",
   "metadata": {},
   "outputs": [],
   "source": [
    "avg_sent.sort_values(by='party', inplace=True)"
   ]
  },
  {
   "cell_type": "code",
   "execution_count": 13,
   "id": "1806d5a5-f1da-4b24-b721-01cf40b9d62e",
   "metadata": {},
   "outputs": [],
   "source": [
    "dem_means = [weighted_mean(combined_polls[combined_polls['dem_candidate'] == name])[1] for name in avg_sent[avg_sent.party == 'd'].index]\n",
    "rep_means = [weighted_mean(combined_polls[combined_polls['rep_candidate'] == name])[0] for name in avg_sent[avg_sent.party == 'r'].index]"
   ]
  },
  {
   "cell_type": "code",
   "execution_count": 14,
   "id": "7d054eec-f931-40c8-9adf-d9218ca8e78f",
   "metadata": {},
   "outputs": [],
   "source": [
    "dem_means.extend(rep_means)\n",
    "avg_sent['weighted_mean'] = dem_means"
   ]
  },
  {
   "cell_type": "code",
   "execution_count": 15,
   "id": "fc354286-3d29-4c0d-947c-6f3a620bb69d",
   "metadata": {},
   "outputs": [],
   "source": [
    "avg_sent['result'] = [55.9, 51.4, 49.5, 53.6, 37.2, 56.4, 56.5, 58.5, 52.9, 50.3, 45.9, 47.4, 51.2, 41.3, 46.7, 41.6, 48.9, 40.0, 51.4, 51.2,\n",
    "                      50.5, 57.1, 57.7, 53.3, 43.2, 48.8, 47.8, 41.7, 48.0, 53.4, 49.7, 48.6, 39.2, 46.3, 62.8, 59.4, 44.4, 46.5, 41.3, 47.1]"
   ]
  },
  {
   "cell_type": "code",
   "execution_count": 16,
   "id": "d96c1d0d-6b0c-4126-aff1-4df1e8d887f4",
   "metadata": {},
   "outputs": [
    {
     "data": {
      "text/html": [
       "<div>\n",
       "<style scoped>\n",
       "    .dataframe tbody tr th:only-of-type {\n",
       "        vertical-align: middle;\n",
       "    }\n",
       "\n",
       "    .dataframe tbody tr th {\n",
       "        vertical-align: top;\n",
       "    }\n",
       "\n",
       "    .dataframe thead th {\n",
       "        text-align: right;\n",
       "    }\n",
       "</style>\n",
       "<table border=\"1\" class=\"dataframe\">\n",
       "  <thead>\n",
       "    <tr style=\"text-align: right;\">\n",
       "      <th></th>\n",
       "      <th>sentiment</th>\n",
       "      <th>weighted_mean</th>\n",
       "      <th>result</th>\n",
       "    </tr>\n",
       "    <tr>\n",
       "      <th>party</th>\n",
       "      <th></th>\n",
       "      <th></th>\n",
       "      <th></th>\n",
       "    </tr>\n",
       "  </thead>\n",
       "  <tbody>\n",
       "    <tr>\n",
       "      <th>d</th>\n",
       "      <td>0.127317</td>\n",
       "      <td>45.587761</td>\n",
       "      <td>49.39</td>\n",
       "    </tr>\n",
       "    <tr>\n",
       "      <th>r</th>\n",
       "      <td>0.074693</td>\n",
       "      <td>43.910246</td>\n",
       "      <td>49.34</td>\n",
       "    </tr>\n",
       "  </tbody>\n",
       "</table>\n",
       "</div>"
      ],
      "text/plain": [
       "       sentiment  weighted_mean  result\n",
       "party                                  \n",
       "d       0.127317      45.587761   49.39\n",
       "r       0.074693      43.910246   49.34"
      ]
     },
     "execution_count": 16,
     "metadata": {},
     "output_type": "execute_result"
    }
   ],
   "source": [
    "# average sentiment per party\n",
    "avg_sent.groupby('party').mean()"
   ]
  },
  {
   "cell_type": "code",
   "execution_count": 17,
   "id": "257154db-cafe-4137-bfcf-8ffef2092759",
   "metadata": {},
   "outputs": [],
   "source": [
    "# ready for use dataframe exported\n",
    "avg_sent.to_csv('datasets/processed_data.csv')"
   ]
  },
  {
   "cell_type": "markdown",
   "id": "4b9b1e5c-3d06-4c21-8333-4aed0eab881b",
   "metadata": {},
   "source": [
    "## Model Building"
   ]
  },
  {
   "cell_type": "code",
   "execution_count": 18,
   "id": "5a21dc9e-53ff-4b0a-9bf2-fe54a553cbc2",
   "metadata": {},
   "outputs": [],
   "source": [
    "# baseline linear model\n",
    "X = avg_sent[['weighted_mean']]\n",
    "y = avg_sent['result']\n",
    "X_train, X_test, y_train, y_test = train_test_split(X, y, random_state=42)"
   ]
  },
  {
   "cell_type": "code",
   "execution_count": 19,
   "id": "0d3126ad-d99a-433c-8e5c-82cf8866e7c8",
   "metadata": {},
   "outputs": [
    {
     "data": {
      "text/plain": [
       "LinearRegression()"
      ]
     },
     "execution_count": 19,
     "metadata": {},
     "output_type": "execute_result"
    }
   ],
   "source": [
    "lr = LinearRegression()\n",
    "lr.fit(X_train, y_train)"
   ]
  },
  {
   "cell_type": "markdown",
   "id": "ecc4db6e-5760-482c-9269-9a5ed80d7f57",
   "metadata": {},
   "source": [
    "MSE and r-squared for baseline model that only uses poll averages"
   ]
  },
  {
   "cell_type": "code",
   "execution_count": 20,
   "id": "13d9c306-50d5-49c3-8827-24633c721cea",
   "metadata": {},
   "outputs": [
    {
     "name": "stdout",
     "output_type": "stream",
     "text": [
      "9.67032190604391\n",
      "0.6586796634896843\n"
     ]
    }
   ],
   "source": [
    "print(metrics.mean_squared_error(y_test, lr.predict(X_test)))\n",
    "print(lr.score(X_test, y_test))"
   ]
  },
  {
   "cell_type": "code",
   "execution_count": 21,
   "id": "c57e3efd-4f0c-4db2-a489-5a6bf06007d4",
   "metadata": {},
   "outputs": [],
   "source": [
    "# including sentiment\n",
    "X = avg_sent[['weighted_mean', 'sentiment']]\n",
    "y = avg_sent['result']\n",
    "X_train, X_test, y_train, y_test = train_test_split(X, y, random_state=42)"
   ]
  },
  {
   "cell_type": "code",
   "execution_count": 22,
   "id": "b15ba62f-d079-44c0-a079-61487864a350",
   "metadata": {},
   "outputs": [
    {
     "data": {
      "text/plain": [
       "LinearRegression()"
      ]
     },
     "execution_count": 22,
     "metadata": {},
     "output_type": "execute_result"
    }
   ],
   "source": [
    "lr = LinearRegression()\n",
    "lr.fit(X_train, y_train)"
   ]
  },
  {
   "cell_type": "markdown",
   "id": "e9722735-f3a8-4b9d-8d4c-961699e04a00",
   "metadata": {},
   "source": [
    "MSE and r-squared for model incorporating social media data"
   ]
  },
  {
   "cell_type": "code",
   "execution_count": 23,
   "id": "4aaaad54-6901-4812-b51a-aa146db7688c",
   "metadata": {},
   "outputs": [
    {
     "name": "stdout",
     "output_type": "stream",
     "text": [
      "9.69505803350916\n",
      "0.6578065856922303\n"
     ]
    }
   ],
   "source": [
    "print(metrics.mean_squared_error(y_test, lr.predict(X_test)))\n",
    "print(lr.score(X_test, y_test))"
   ]
  },
  {
   "cell_type": "code",
   "execution_count": 24,
   "id": "f4f75cd6-df9c-4ac7-b9ee-807cfa5c0702",
   "metadata": {},
   "outputs": [
    {
     "name": "stdout",
     "output_type": "stream",
     "text": [
      "7.290767873346304\n",
      "0.8531747786607021\n"
     ]
    }
   ],
   "source": [
    "# excluding Tom Sherman\n",
    "X = avg_sent[avg_sent.sentiment < 0.4][['weighted_mean']]\n",
    "y = avg_sent[avg_sent.sentiment < 0.4]['result']\n",
    "X_train, X_test, y_train, y_test = train_test_split(X, y, random_state=42)\n",
    "\n",
    "lr = LinearRegression()\n",
    "lr.fit(X_train, y_train)\n",
    "\n",
    "print(metrics.mean_squared_error(y_test, lr.predict(X_test)))\n",
    "print(lr.score(X_test, y_test))"
   ]
  }
 ],
 "metadata": {
  "kernelspec": {
   "display_name": "Python 3 (ipykernel)",
   "language": "python",
   "name": "python3"
  },
  "language_info": {
   "codemirror_mode": {
    "name": "ipython",
    "version": 3
   },
   "file_extension": ".py",
   "mimetype": "text/x-python",
   "name": "python",
   "nbconvert_exporter": "python",
   "pygments_lexer": "ipython3",
   "version": "3.9.12"
  }
 },
 "nbformat": 4,
 "nbformat_minor": 5
}
